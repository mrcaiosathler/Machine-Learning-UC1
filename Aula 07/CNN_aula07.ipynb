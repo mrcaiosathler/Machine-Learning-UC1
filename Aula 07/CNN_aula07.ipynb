{
 "cells": [
  {
   "cell_type": "markdown",
   "id": "540d2c37-c7bf-4a4a-b7cb-6cc00099ae03",
   "metadata": {},
   "source": [
    "# 1. Importação de Bibliotecas"
   ]
  },
  {
   "cell_type": "code",
   "execution_count": 1,
   "id": "d7ef293a-504d-404c-a9e0-6eddc6f18aa2",
   "metadata": {},
   "outputs": [],
   "source": [
    "import tensorflow as tf\n",
    "from tensorflow.keras import layers, models"
   ]
  },
  {
   "cell_type": "markdown",
   "id": "08baedf9-f19d-44f7-a085-cf28d01768cc",
   "metadata": {},
   "source": [
    "# 2. Carregamento do Dataset"
   ]
  },
  {
   "cell_type": "code",
   "execution_count": 2,
   "id": "2109019f-f1e4-4c4e-a075-a5bda9f56a7e",
   "metadata": {},
   "outputs": [],
   "source": [
    "(x_train, y_train), (x_test, y_test) = tf.keras.datasets.cifar10.load_data()"
   ]
  },
  {
   "cell_type": "markdown",
   "id": "ae964230-7c5f-4d14-94c5-c218cc4c2406",
   "metadata": {},
   "source": [
    "### 2.1 Impressão do treino para confirmação da importação do dataset"
   ]
  },
  {
   "cell_type": "code",
   "execution_count": 3,
   "id": "4709a935-2a32-4ba3-b01f-a7a020043072",
   "metadata": {},
   "outputs": [
    {
     "data": {
      "text/plain": [
       "array([[[[ 59,  62,  63],\n",
       "         [ 43,  46,  45],\n",
       "         [ 50,  48,  43],\n",
       "         ...,\n",
       "         [158, 132, 108],\n",
       "         [152, 125, 102],\n",
       "         [148, 124, 103]],\n",
       "\n",
       "        [[ 16,  20,  20],\n",
       "         [  0,   0,   0],\n",
       "         [ 18,   8,   0],\n",
       "         ...,\n",
       "         [123,  88,  55],\n",
       "         [119,  83,  50],\n",
       "         [122,  87,  57]],\n",
       "\n",
       "        [[ 25,  24,  21],\n",
       "         [ 16,   7,   0],\n",
       "         [ 49,  27,   8],\n",
       "         ...,\n",
       "         [118,  84,  50],\n",
       "         [120,  84,  50],\n",
       "         [109,  73,  42]],\n",
       "\n",
       "        ...,\n",
       "\n",
       "        [[208, 170,  96],\n",
       "         [201, 153,  34],\n",
       "         [198, 161,  26],\n",
       "         ...,\n",
       "         [160, 133,  70],\n",
       "         [ 56,  31,   7],\n",
       "         [ 53,  34,  20]],\n",
       "\n",
       "        [[180, 139,  96],\n",
       "         [173, 123,  42],\n",
       "         [186, 144,  30],\n",
       "         ...,\n",
       "         [184, 148,  94],\n",
       "         [ 97,  62,  34],\n",
       "         [ 83,  53,  34]],\n",
       "\n",
       "        [[177, 144, 116],\n",
       "         [168, 129,  94],\n",
       "         [179, 142,  87],\n",
       "         ...,\n",
       "         [216, 184, 140],\n",
       "         [151, 118,  84],\n",
       "         [123,  92,  72]]]], dtype=uint8)"
      ]
     },
     "execution_count": 3,
     "metadata": {},
     "output_type": "execute_result"
    }
   ],
   "source": [
    "x_train[0:1]"
   ]
  },
  {
   "cell_type": "markdown",
   "id": "2d4903aa-8aba-4327-adce-94ffc6eb7feb",
   "metadata": {},
   "source": [
    "### 2.2 Normalização dos dados"
   ]
  },
  {
   "cell_type": "code",
   "execution_count": 4,
   "id": "0a608719-d286-4f2a-bfd1-91d76333657a",
   "metadata": {},
   "outputs": [],
   "source": [
    "x_train = x_train.astype('float32') / 255\n",
    "x_test = x_test.astype('float32') / 255"
   ]
  },
  {
   "cell_type": "markdown",
   "id": "5d41c3a2-5bef-47af-8c23-306741af2600",
   "metadata": {},
   "source": [
    "### 2.3 One hot enconding dos rótulos"
   ]
  },
  {
   "cell_type": "code",
   "execution_count": 5,
   "id": "5401627d-2a92-43d5-82e5-bc9165ce9be0",
   "metadata": {},
   "outputs": [],
   "source": [
    "y_train = tf.keras.utils.to_categorical(y_train,10)\n",
    "y_test = tf.keras.utils.to_categorical(y_test,10)"
   ]
  },
  {
   "cell_type": "markdown",
   "id": "2e1f8973-ec8b-425c-9920-cdb24691163b",
   "metadata": {},
   "source": [
    "# 3. Criação do modelo CNN"
   ]
  },
  {
   "cell_type": "code",
   "execution_count": 6,
   "id": "e5febc8d-1b62-4255-b849-58b78b2d2c72",
   "metadata": {},
   "outputs": [],
   "source": [
    "model = models.Sequential()"
   ]
  },
  {
   "cell_type": "markdown",
   "id": "12991984-03b4-4b20-8b2d-371dbd580d10",
   "metadata": {},
   "source": [
    "### 3.1 Primeira camada convolucional + pooling"
   ]
  },
  {
   "cell_type": "code",
   "execution_count": 7,
   "id": "582e65ea-b478-4028-a098-f2a6d396a495",
   "metadata": {},
   "outputs": [
    {
     "name": "stderr",
     "output_type": "stream",
     "text": [
      "c:\\_mlUc1\\mlEnv\\lib\\site-packages\\keras\\src\\layers\\convolutional\\base_conv.py:113: UserWarning: Do not pass an `input_shape`/`input_dim` argument to a layer. When using Sequential models, prefer using an `Input(shape)` object as the first layer in the model instead.\n",
      "  super().__init__(activity_regularizer=activity_regularizer, **kwargs)\n"
     ]
    }
   ],
   "source": [
    "model.add(layers.Conv2D(32, (3,3), activation='relu', input_shape=(32,32,3)))\n",
    "model.add(layers.MaxPooling2D((2,2)))"
   ]
  },
  {
   "cell_type": "markdown",
   "id": "8e3390f9-6de2-435c-884c-3b68a9e334da",
   "metadata": {},
   "source": [
    "### 3.2 Segunda camada convolucional + pooling"
   ]
  },
  {
   "cell_type": "code",
   "execution_count": 8,
   "id": "1f3a0db6-3359-4e15-832f-51d19d777830",
   "metadata": {},
   "outputs": [],
   "source": [
    "model.add(layers.Conv2D(64, (3,3), activation='relu'))\n",
    "model.add(layers.MaxPooling2D((2,2)))"
   ]
  },
  {
   "cell_type": "markdown",
   "id": "f2483420-50d4-4bcc-beb1-958778fe1952",
   "metadata": {},
   "source": [
    "### 3.3 Terceira camada convolucional"
   ]
  },
  {
   "cell_type": "code",
   "execution_count": 9,
   "id": "085bf4a4-295c-460a-b1d4-972bb23a6a0d",
   "metadata": {},
   "outputs": [],
   "source": [
    "model.add(layers.Conv2D(64, (3, 3), activation='relu'))"
   ]
  },
  {
   "cell_type": "markdown",
   "id": "acce2af1-b875-4f1b-9c2f-e17444ee7adc",
   "metadata": {},
   "source": [
    "### 3.4 Achatar para passar para camadas densas"
   ]
  },
  {
   "cell_type": "code",
   "execution_count": 10,
   "id": "628d1b1f-1c30-4b7c-a144-1c61965d1cd2",
   "metadata": {},
   "outputs": [],
   "source": [
    "model.add(layers.Flatten())"
   ]
  },
  {
   "cell_type": "markdown",
   "id": "7e99e719-0e21-43af-9e19-7ae51cac8810",
   "metadata": {},
   "source": [
    "### 3.5 Camadas densas finais"
   ]
  },
  {
   "cell_type": "code",
   "execution_count": 11,
   "id": "7b0a169b-968b-4bf6-8e18-2e06e45f48a2",
   "metadata": {},
   "outputs": [],
   "source": [
    "model.add(layers.Dense(64, activation = 'relu'))\n",
    "model.add(layers.Dense(10, activation = 'softmax'))"
   ]
  },
  {
   "cell_type": "markdown",
   "id": "740b9229-8521-4733-a949-0d1c6ab396e1",
   "metadata": {},
   "source": [
    "# 4. Compilação do Modelo"
   ]
  },
  {
   "cell_type": "code",
   "execution_count": 12,
   "id": "bf193de5-b0fb-45de-ad77-8e78f12aeb11",
   "metadata": {},
   "outputs": [],
   "source": [
    "model.compile(optimizer='adam',\n",
    "              loss='categorical_crossentropy',\n",
    "              metrics=['accuracy'])"
   ]
  },
  {
   "cell_type": "markdown",
   "id": "1b4505b1-6c5a-4089-bdd1-639263b80d05",
   "metadata": {},
   "source": [
    "# 5. Treinamento do Modelo"
   ]
  },
  {
   "cell_type": "code",
   "execution_count": 16,
   "id": "90226cf7-d6fa-4bb5-b9eb-2ad08b7ae1f0",
   "metadata": {},
   "outputs": [
    {
     "name": "stdout",
     "output_type": "stream",
     "text": [
      "Epoch 1/10\n",
      "\u001b[1m625/625\u001b[0m \u001b[32m━━━━━━━━━━━━━━━━━━━━\u001b[0m\u001b[37m\u001b[0m \u001b[1m4s\u001b[0m 7ms/step - accuracy: 0.8222 - loss: 0.5111 - val_accuracy: 0.6992 - val_loss: 0.9350\n",
      "Epoch 2/10\n",
      "\u001b[1m625/625\u001b[0m \u001b[32m━━━━━━━━━━━━━━━━━━━━\u001b[0m\u001b[37m\u001b[0m \u001b[1m4s\u001b[0m 7ms/step - accuracy: 0.8307 - loss: 0.4786 - val_accuracy: 0.7057 - val_loss: 0.9705\n",
      "Epoch 3/10\n",
      "\u001b[1m625/625\u001b[0m \u001b[32m━━━━━━━━━━━━━━━━━━━━\u001b[0m\u001b[37m\u001b[0m \u001b[1m4s\u001b[0m 6ms/step - accuracy: 0.8418 - loss: 0.4496 - val_accuracy: 0.7029 - val_loss: 1.0101\n",
      "Epoch 4/10\n",
      "\u001b[1m625/625\u001b[0m \u001b[32m━━━━━━━━━━━━━━━━━━━━\u001b[0m\u001b[37m\u001b[0m \u001b[1m4s\u001b[0m 6ms/step - accuracy: 0.8540 - loss: 0.4269 - val_accuracy: 0.6997 - val_loss: 1.0089\n",
      "Epoch 5/10\n",
      "\u001b[1m625/625\u001b[0m \u001b[32m━━━━━━━━━━━━━━━━━━━━\u001b[0m\u001b[37m\u001b[0m \u001b[1m4s\u001b[0m 7ms/step - accuracy: 0.8540 - loss: 0.4044 - val_accuracy: 0.7011 - val_loss: 1.0152\n",
      "Epoch 6/10\n",
      "\u001b[1m625/625\u001b[0m \u001b[32m━━━━━━━━━━━━━━━━━━━━\u001b[0m\u001b[37m\u001b[0m \u001b[1m4s\u001b[0m 6ms/step - accuracy: 0.8693 - loss: 0.3733 - val_accuracy: 0.6991 - val_loss: 1.0366\n",
      "Epoch 7/10\n",
      "\u001b[1m625/625\u001b[0m \u001b[32m━━━━━━━━━━━━━━━━━━━━\u001b[0m\u001b[37m\u001b[0m \u001b[1m4s\u001b[0m 6ms/step - accuracy: 0.8705 - loss: 0.3627 - val_accuracy: 0.6929 - val_loss: 1.0874\n",
      "Epoch 8/10\n",
      "\u001b[1m625/625\u001b[0m \u001b[32m━━━━━━━━━━━━━━━━━━━━\u001b[0m\u001b[37m\u001b[0m \u001b[1m4s\u001b[0m 6ms/step - accuracy: 0.8848 - loss: 0.3299 - val_accuracy: 0.6906 - val_loss: 1.1363\n",
      "Epoch 9/10\n",
      "\u001b[1m625/625\u001b[0m \u001b[32m━━━━━━━━━━━━━━━━━━━━\u001b[0m\u001b[37m\u001b[0m \u001b[1m4s\u001b[0m 6ms/step - accuracy: 0.8918 - loss: 0.3086 - val_accuracy: 0.6969 - val_loss: 1.1794\n",
      "Epoch 10/10\n",
      "\u001b[1m625/625\u001b[0m \u001b[32m━━━━━━━━━━━━━━━━━━━━\u001b[0m\u001b[37m\u001b[0m \u001b[1m4s\u001b[0m 6ms/step - accuracy: 0.8952 - loss: 0.2941 - val_accuracy: 0.7019 - val_loss: 1.2009\n"
     ]
    }
   ],
   "source": [
    "history= model.fit(x_train, y_train, epochs=10, batch_size=64, validation_split=0.2)"
   ]
  },
  {
   "cell_type": "markdown",
   "id": "ac4dfca5-6205-4391-a82e-8e982ed33584",
   "metadata": {},
   "source": [
    "# 6. Avaliação do modelo"
   ]
  },
  {
   "cell_type": "code",
   "execution_count": 18,
   "id": "0dfb2bb0-3a48-46b3-b4dd-519a3ea507ea",
   "metadata": {},
   "outputs": [
    {
     "name": "stdout",
     "output_type": "stream",
     "text": [
      "313/313 - 1s - 2ms/step - accuracy: 0.6908 - loss: 1.2574\n",
      "Acurácia no teste: 0.69\n"
     ]
    }
   ],
   "source": [
    "test_loss, test_acc = model.evaluate(x_test, y_test, verbose=2)\n",
    "print(f'Acurácia no teste: {test_acc:.2f}')"
   ]
  }
 ],
 "metadata": {
  "kernelspec": {
   "display_name": "Python ML (venv)",
   "language": "python",
   "name": "machine_learning"
  },
  "language_info": {
   "codemirror_mode": {
    "name": "ipython",
    "version": 3
   },
   "file_extension": ".py",
   "mimetype": "text/x-python",
   "name": "python",
   "nbconvert_exporter": "python",
   "pygments_lexer": "ipython3",
   "version": "3.10.5"
  }
 },
 "nbformat": 4,
 "nbformat_minor": 5
}
