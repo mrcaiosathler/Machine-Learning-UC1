{
 "cells": [
  {
   "cell_type": "code",
   "execution_count": 1,
   "id": "6321392e-0b76-451a-947e-115e04ec9919",
   "metadata": {},
   "outputs": [],
   "source": [
    "from keras.models import Sequential\n",
    "from keras.layers import Embedding, SimpleRNN, Dense\n",
    "from keras.datasets import imdb\n",
    "from keras.preprocessing import sequence"
   ]
  },
  {
   "cell_type": "code",
   "execution_count": 2,
   "id": "154dbb51-2f6a-459d-90b7-1a3cb4dc05d1",
   "metadata": {},
   "outputs": [
    {
     "name": "stdout",
     "output_type": "stream",
     "text": [
      "Downloading data from https://storage.googleapis.com/tensorflow/tf-keras-datasets/imdb.npz\n",
      "\u001b[1m17464789/17464789\u001b[0m \u001b[32m━━━━━━━━━━━━━━━━━━━━\u001b[0m\u001b[37m\u001b[0m \u001b[1m3s\u001b[0m 0us/step\n"
     ]
    }
   ],
   "source": [
    "(X_train, y_train), (X_test, y_test) = imdb.load_data(num_words=10000)"
   ]
  },
  {
   "cell_type": "code",
   "execution_count": 4,
   "id": "2f890b7d-7583-4bfb-8cbc-a9a84847994e",
   "metadata": {},
   "outputs": [],
   "source": [
    "#Limitando o tamanho das reviews para 500 palavras\n",
    "maxlen = 500\n",
    "X_train = sequence.pad_sequences(X_train, maxlen=maxlen)\n",
    "X_test = sequence.pad_sequences(X_test, maxlen=maxlen)"
   ]
  },
  {
   "cell_type": "code",
   "execution_count": 6,
   "id": "5ec35d9a-bff2-43aa-be40-5516c6a64fab",
   "metadata": {},
   "outputs": [],
   "source": [
    "#Construção do Modelo\n",
    "model = Sequential()\n",
    "model.add(Embedding(input_dim=10000, output_dim=64)) #Codifica as palavras em vetores\n",
    "model.add(SimpleRNN(units=64)) #Camada RNN básica\n",
    "model.add(Dense(units=1, activation='sigmoid')) #Saída: probabilidade de sentimento positivo"
   ]
  },
  {
   "cell_type": "code",
   "execution_count": 7,
   "id": "07920ae4-2a5f-4038-9291-3ed6896e4571",
   "metadata": {},
   "outputs": [],
   "source": [
    "#Compilação do Modelo\n",
    "model.compile(loss='binary_crossentropy', optimizer='adam', metrics=['accuracy'])"
   ]
  },
  {
   "cell_type": "code",
   "execution_count": 8,
   "id": "ef798530-eb05-45f8-9ad5-2a21e0231d4e",
   "metadata": {},
   "outputs": [
    {
     "name": "stdout",
     "output_type": "stream",
     "text": [
      "Epoch 1/5\n",
      "\u001b[1m625/625\u001b[0m \u001b[32m━━━━━━━━━━━━━━━━━━━━\u001b[0m\u001b[37m\u001b[0m \u001b[1m21s\u001b[0m 32ms/step - accuracy: 0.5818 - loss: 0.6536 - val_accuracy: 0.6982 - val_loss: 0.5668\n",
      "Epoch 2/5\n",
      "\u001b[1m625/625\u001b[0m \u001b[32m━━━━━━━━━━━━━━━━━━━━\u001b[0m\u001b[37m\u001b[0m \u001b[1m20s\u001b[0m 31ms/step - accuracy: 0.7762 - loss: 0.4804 - val_accuracy: 0.6874 - val_loss: 0.5989\n",
      "Epoch 3/5\n",
      "\u001b[1m625/625\u001b[0m \u001b[32m━━━━━━━━━━━━━━━━━━━━\u001b[0m\u001b[37m\u001b[0m \u001b[1m20s\u001b[0m 31ms/step - accuracy: 0.8393 - loss: 0.3671 - val_accuracy: 0.7654 - val_loss: 0.5153\n",
      "Epoch 4/5\n",
      "\u001b[1m625/625\u001b[0m \u001b[32m━━━━━━━━━━━━━━━━━━━━\u001b[0m\u001b[37m\u001b[0m \u001b[1m20s\u001b[0m 32ms/step - accuracy: 0.9218 - loss: 0.2075 - val_accuracy: 0.8070 - val_loss: 0.5416\n",
      "Epoch 5/5\n",
      "\u001b[1m625/625\u001b[0m \u001b[32m━━━━━━━━━━━━━━━━━━━━\u001b[0m\u001b[37m\u001b[0m \u001b[1m20s\u001b[0m 31ms/step - accuracy: 0.9679 - loss: 0.0978 - val_accuracy: 0.7764 - val_loss: 0.6596\n"
     ]
    },
    {
     "data": {
      "text/plain": [
       "<keras.src.callbacks.history.History at 0x2852dd6ace0>"
      ]
     },
     "execution_count": 8,
     "metadata": {},
     "output_type": "execute_result"
    }
   ],
   "source": [
    "#Treinamento do Modelo\n",
    "model.fit(X_train, y_train, epochs=5, batch_size=32, validation_split=0.2)"
   ]
  },
  {
   "cell_type": "code",
   "execution_count": 9,
   "id": "e05738e8-fb57-4f98-b516-5b7032930260",
   "metadata": {},
   "outputs": [
    {
     "name": "stdout",
     "output_type": "stream",
     "text": [
      "\u001b[1m782/782\u001b[0m \u001b[32m━━━━━━━━━━━━━━━━━━━━\u001b[0m\u001b[37m\u001b[0m \u001b[1m6s\u001b[0m 7ms/step - accuracy: 0.7701 - loss: 0.6946\n",
      "Acurácia do conjunto de teste: 77.01%\n"
     ]
    }
   ],
   "source": [
    "#Avaliação no conjunto de testes\n",
    "loss, accuracy = model.evaluate(X_test, y_test)\n",
    "print(f'Acurácia do conjunto de teste: {accuracy * 100:.2f}%')"
   ]
  },
  {
   "cell_type": "code",
   "execution_count": null,
   "id": "55a383d9-5be1-482d-921d-3163cb402735",
   "metadata": {},
   "outputs": [],
   "source": []
  }
 ],
 "metadata": {
  "kernelspec": {
   "display_name": "Python ML (venv)",
   "language": "python",
   "name": "machine_learning"
  },
  "language_info": {
   "codemirror_mode": {
    "name": "ipython",
    "version": 3
   },
   "file_extension": ".py",
   "mimetype": "text/x-python",
   "name": "python",
   "nbconvert_exporter": "python",
   "pygments_lexer": "ipython3",
   "version": "3.10.5"
  }
 },
 "nbformat": 4,
 "nbformat_minor": 5
}
